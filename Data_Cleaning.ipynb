{
  "nbformat": 4,
  "nbformat_minor": 0,
  "metadata": {
    "colab": {
      "provenance": []
    },
    "kernelspec": {
      "name": "python3",
      "display_name": "Python 3"
    },
    "language_info": {
      "name": "python"
    }
  },
  "cells": [
    {
      "cell_type": "code",
      "execution_count": null,
      "metadata": {
        "id": "pUEwfyiBPlBZ"
      },
      "outputs": [],
      "source": [
        "import pandas as pd\n",
        "import numpy as np\n"
      ]
    },
    {
      "cell_type": "markdown",
      "source": [
        "# PRESCRIBED MEDICINE FILE - DATA HANDLING"
      ],
      "metadata": {
        "id": "wWqcCZImEBDj"
      }
    },
    {
      "cell_type": "code",
      "source": [
        "presc_df = pd.read_excel(\"/content/drive/MyDrive/Amit-Project/prescribed2018.xlsx\")"
      ],
      "metadata": {
        "id": "2Fe-a6HvRdml",
        "colab": {
          "base_uri": "https://localhost:8080/",
          "height": 330
        },
        "outputId": "a3ffbd2b-4ec6-486a-b7e8-0f81058bd4b6"
      },
      "execution_count": null,
      "outputs": [
        {
          "output_type": "error",
          "ename": "FileNotFoundError",
          "evalue": "ignored",
          "traceback": [
            "\u001b[0;31m---------------------------------------------------------------------------\u001b[0m",
            "\u001b[0;31mFileNotFoundError\u001b[0m                         Traceback (most recent call last)",
            "\u001b[0;32m<ipython-input-9-40829c63ab60>\u001b[0m in \u001b[0;36m<module>\u001b[0;34m\u001b[0m\n\u001b[0;32m----> 1\u001b[0;31m \u001b[0mpresc_df\u001b[0m \u001b[0;34m=\u001b[0m \u001b[0mpd\u001b[0m\u001b[0;34m.\u001b[0m\u001b[0mread_excel\u001b[0m\u001b[0;34m(\u001b[0m\u001b[0;34m\"/content/drive/MyDrive/Amit-Project/prescribed2018.xlsx\"\u001b[0m\u001b[0;34m)\u001b[0m\u001b[0;34m\u001b[0m\u001b[0;34m\u001b[0m\u001b[0m\n\u001b[0m",
            "\u001b[0;32m/usr/local/lib/python3.9/dist-packages/pandas/util/_decorators.py\u001b[0m in \u001b[0;36mwrapper\u001b[0;34m(*args, **kwargs)\u001b[0m\n\u001b[1;32m    309\u001b[0m                     \u001b[0mstacklevel\u001b[0m\u001b[0;34m=\u001b[0m\u001b[0mstacklevel\u001b[0m\u001b[0;34m,\u001b[0m\u001b[0;34m\u001b[0m\u001b[0;34m\u001b[0m\u001b[0m\n\u001b[1;32m    310\u001b[0m                 )\n\u001b[0;32m--> 311\u001b[0;31m             \u001b[0;32mreturn\u001b[0m \u001b[0mfunc\u001b[0m\u001b[0;34m(\u001b[0m\u001b[0;34m*\u001b[0m\u001b[0margs\u001b[0m\u001b[0;34m,\u001b[0m \u001b[0;34m**\u001b[0m\u001b[0mkwargs\u001b[0m\u001b[0;34m)\u001b[0m\u001b[0;34m\u001b[0m\u001b[0;34m\u001b[0m\u001b[0m\n\u001b[0m\u001b[1;32m    312\u001b[0m \u001b[0;34m\u001b[0m\u001b[0m\n\u001b[1;32m    313\u001b[0m         \u001b[0;32mreturn\u001b[0m \u001b[0mwrapper\u001b[0m\u001b[0;34m\u001b[0m\u001b[0;34m\u001b[0m\u001b[0m\n",
            "\u001b[0;32m/usr/local/lib/python3.9/dist-packages/pandas/io/excel/_base.py\u001b[0m in \u001b[0;36mread_excel\u001b[0;34m(io, sheet_name, header, names, index_col, usecols, squeeze, dtype, engine, converters, true_values, false_values, skiprows, nrows, na_values, keep_default_na, na_filter, verbose, parse_dates, date_parser, thousands, decimal, comment, skipfooter, convert_float, mangle_dupe_cols, storage_options)\u001b[0m\n\u001b[1;32m    455\u001b[0m     \u001b[0;32mif\u001b[0m \u001b[0;32mnot\u001b[0m \u001b[0misinstance\u001b[0m\u001b[0;34m(\u001b[0m\u001b[0mio\u001b[0m\u001b[0;34m,\u001b[0m \u001b[0mExcelFile\u001b[0m\u001b[0;34m)\u001b[0m\u001b[0;34m:\u001b[0m\u001b[0;34m\u001b[0m\u001b[0;34m\u001b[0m\u001b[0m\n\u001b[1;32m    456\u001b[0m         \u001b[0mshould_close\u001b[0m \u001b[0;34m=\u001b[0m \u001b[0;32mTrue\u001b[0m\u001b[0;34m\u001b[0m\u001b[0;34m\u001b[0m\u001b[0m\n\u001b[0;32m--> 457\u001b[0;31m         \u001b[0mio\u001b[0m \u001b[0;34m=\u001b[0m \u001b[0mExcelFile\u001b[0m\u001b[0;34m(\u001b[0m\u001b[0mio\u001b[0m\u001b[0;34m,\u001b[0m \u001b[0mstorage_options\u001b[0m\u001b[0;34m=\u001b[0m\u001b[0mstorage_options\u001b[0m\u001b[0;34m,\u001b[0m \u001b[0mengine\u001b[0m\u001b[0;34m=\u001b[0m\u001b[0mengine\u001b[0m\u001b[0;34m)\u001b[0m\u001b[0;34m\u001b[0m\u001b[0;34m\u001b[0m\u001b[0m\n\u001b[0m\u001b[1;32m    458\u001b[0m     \u001b[0;32melif\u001b[0m \u001b[0mengine\u001b[0m \u001b[0;32mand\u001b[0m \u001b[0mengine\u001b[0m \u001b[0;34m!=\u001b[0m \u001b[0mio\u001b[0m\u001b[0;34m.\u001b[0m\u001b[0mengine\u001b[0m\u001b[0;34m:\u001b[0m\u001b[0;34m\u001b[0m\u001b[0;34m\u001b[0m\u001b[0m\n\u001b[1;32m    459\u001b[0m         raise ValueError(\n",
            "\u001b[0;32m/usr/local/lib/python3.9/dist-packages/pandas/io/excel/_base.py\u001b[0m in \u001b[0;36m__init__\u001b[0;34m(self, path_or_buffer, engine, storage_options)\u001b[0m\n\u001b[1;32m   1374\u001b[0m                 \u001b[0mext\u001b[0m \u001b[0;34m=\u001b[0m \u001b[0;34m\"xls\"\u001b[0m\u001b[0;34m\u001b[0m\u001b[0;34m\u001b[0m\u001b[0m\n\u001b[1;32m   1375\u001b[0m             \u001b[0;32melse\u001b[0m\u001b[0;34m:\u001b[0m\u001b[0;34m\u001b[0m\u001b[0;34m\u001b[0m\u001b[0m\n\u001b[0;32m-> 1376\u001b[0;31m                 ext = inspect_excel_format(\n\u001b[0m\u001b[1;32m   1377\u001b[0m                     \u001b[0mcontent_or_path\u001b[0m\u001b[0;34m=\u001b[0m\u001b[0mpath_or_buffer\u001b[0m\u001b[0;34m,\u001b[0m \u001b[0mstorage_options\u001b[0m\u001b[0;34m=\u001b[0m\u001b[0mstorage_options\u001b[0m\u001b[0;34m\u001b[0m\u001b[0;34m\u001b[0m\u001b[0m\n\u001b[1;32m   1378\u001b[0m                 )\n",
            "\u001b[0;32m/usr/local/lib/python3.9/dist-packages/pandas/io/excel/_base.py\u001b[0m in \u001b[0;36minspect_excel_format\u001b[0;34m(content_or_path, storage_options)\u001b[0m\n\u001b[1;32m   1248\u001b[0m         \u001b[0mcontent_or_path\u001b[0m \u001b[0;34m=\u001b[0m \u001b[0mBytesIO\u001b[0m\u001b[0;34m(\u001b[0m\u001b[0mcontent_or_path\u001b[0m\u001b[0;34m)\u001b[0m\u001b[0;34m\u001b[0m\u001b[0;34m\u001b[0m\u001b[0m\n\u001b[1;32m   1249\u001b[0m \u001b[0;34m\u001b[0m\u001b[0m\n\u001b[0;32m-> 1250\u001b[0;31m     with get_handle(\n\u001b[0m\u001b[1;32m   1251\u001b[0m         \u001b[0mcontent_or_path\u001b[0m\u001b[0;34m,\u001b[0m \u001b[0;34m\"rb\"\u001b[0m\u001b[0;34m,\u001b[0m \u001b[0mstorage_options\u001b[0m\u001b[0;34m=\u001b[0m\u001b[0mstorage_options\u001b[0m\u001b[0;34m,\u001b[0m \u001b[0mis_text\u001b[0m\u001b[0;34m=\u001b[0m\u001b[0;32mFalse\u001b[0m\u001b[0;34m\u001b[0m\u001b[0;34m\u001b[0m\u001b[0m\n\u001b[1;32m   1252\u001b[0m     ) as handle:\n",
            "\u001b[0;32m/usr/local/lib/python3.9/dist-packages/pandas/io/common.py\u001b[0m in \u001b[0;36mget_handle\u001b[0;34m(path_or_buf, mode, encoding, compression, memory_map, is_text, errors, storage_options)\u001b[0m\n\u001b[1;32m    793\u001b[0m         \u001b[0;32melse\u001b[0m\u001b[0;34m:\u001b[0m\u001b[0;34m\u001b[0m\u001b[0;34m\u001b[0m\u001b[0m\n\u001b[1;32m    794\u001b[0m             \u001b[0;31m# Binary mode\u001b[0m\u001b[0;34m\u001b[0m\u001b[0;34m\u001b[0m\u001b[0m\n\u001b[0;32m--> 795\u001b[0;31m             \u001b[0mhandle\u001b[0m \u001b[0;34m=\u001b[0m \u001b[0mopen\u001b[0m\u001b[0;34m(\u001b[0m\u001b[0mhandle\u001b[0m\u001b[0;34m,\u001b[0m \u001b[0mioargs\u001b[0m\u001b[0;34m.\u001b[0m\u001b[0mmode\u001b[0m\u001b[0;34m)\u001b[0m\u001b[0;34m\u001b[0m\u001b[0;34m\u001b[0m\u001b[0m\n\u001b[0m\u001b[1;32m    796\u001b[0m         \u001b[0mhandles\u001b[0m\u001b[0;34m.\u001b[0m\u001b[0mappend\u001b[0m\u001b[0;34m(\u001b[0m\u001b[0mhandle\u001b[0m\u001b[0;34m)\u001b[0m\u001b[0;34m\u001b[0m\u001b[0;34m\u001b[0m\u001b[0m\n\u001b[1;32m    797\u001b[0m \u001b[0;34m\u001b[0m\u001b[0m\n",
            "\u001b[0;31mFileNotFoundError\u001b[0m: [Errno 2] No such file or directory: '/content/drive/MyDrive/Amit-Project/prescribed2018.xlsx'"
          ]
        }
      ]
    },
    {
      "cell_type": "code",
      "source": [
        "presc_df.head() "
      ],
      "metadata": {
        "colab": {
          "base_uri": "https://localhost:8080/",
          "height": 167
        },
        "id": "jgxeJuIsRo9t",
        "outputId": "8f753479-2d71-4392-d8ff-72ed2bd1b6d1"
      },
      "execution_count": null,
      "outputs": [
        {
          "output_type": "error",
          "ename": "NameError",
          "evalue": "ignored",
          "traceback": [
            "\u001b[0;31m---------------------------------------------------------------------------\u001b[0m",
            "\u001b[0;31mNameError\u001b[0m                                 Traceback (most recent call last)",
            "\u001b[0;32m<ipython-input-7-f206b2fc50b5>\u001b[0m in \u001b[0;36m<module>\u001b[0;34m\u001b[0m\n\u001b[0;32m----> 1\u001b[0;31m \u001b[0mpresc_df\u001b[0m\u001b[0;34m.\u001b[0m\u001b[0mhead\u001b[0m\u001b[0;34m(\u001b[0m\u001b[0;34m)\u001b[0m\u001b[0;34m\u001b[0m\u001b[0;34m\u001b[0m\u001b[0m\n\u001b[0m",
            "\u001b[0;31mNameError\u001b[0m: name 'presc_df' is not defined"
          ]
        }
      ]
    },
    {
      "cell_type": "code",
      "source": [
        "presc_df = presc_df[presc_df[\"TC1S1\"] == 249 ]"
      ],
      "metadata": {
        "id": "PM1mJI8L9EvA"
      },
      "execution_count": null,
      "outputs": []
    },
    {
      "cell_type": "code",
      "source": [
        "presc_df.shape"
      ],
      "metadata": {
        "id": "iGtzFF14U8wX"
      },
      "execution_count": null,
      "outputs": []
    },
    {
      "cell_type": "code",
      "source": [
        "presc_df = presc_df.drop_duplicates(subset='LINKIDX', keep='first')\n",
        "presc_df.head()"
      ],
      "metadata": {
        "id": "XUvBN4g4UYT-"
      },
      "execution_count": null,
      "outputs": []
    },
    {
      "cell_type": "code",
      "source": [
        "presc_df[\"Drug\"] = \"other\"\n",
        "presc_df.head()"
      ],
      "metadata": {
        "colab": {
          "base_uri": "https://localhost:8080/",
          "height": 184
        },
        "id": "VN4cPf33VEFh",
        "outputId": "65d0dcc9-c5da-463d-96d9-d5df2f69f98e"
      },
      "execution_count": null,
      "outputs": [
        {
          "output_type": "error",
          "ename": "NameError",
          "evalue": "ignored",
          "traceback": [
            "\u001b[0;31m---------------------------------------------------------------------------\u001b[0m",
            "\u001b[0;31mNameError\u001b[0m                                 Traceback (most recent call last)",
            "\u001b[0;32m<ipython-input-8-ccb4c717bb0e>\u001b[0m in \u001b[0;36m<module>\u001b[0;34m\u001b[0m\n\u001b[0;32m----> 1\u001b[0;31m \u001b[0mpresc_df\u001b[0m\u001b[0;34m[\u001b[0m\u001b[0;34m\"Drug\"\u001b[0m\u001b[0;34m]\u001b[0m \u001b[0;34m=\u001b[0m \u001b[0;34m\"other\"\u001b[0m\u001b[0;34m\u001b[0m\u001b[0;34m\u001b[0m\u001b[0m\n\u001b[0m\u001b[1;32m      2\u001b[0m \u001b[0mpresc_df\u001b[0m\u001b[0;34m.\u001b[0m\u001b[0mhead\u001b[0m\u001b[0;34m(\u001b[0m\u001b[0;34m)\u001b[0m\u001b[0;34m\u001b[0m\u001b[0;34m\u001b[0m\u001b[0m\n",
            "\u001b[0;31mNameError\u001b[0m: name 'presc_df' is not defined"
          ]
        }
      ]
    },
    {
      "cell_type": "code",
      "source": [
        "conditions = {\"amit\": \"AMITR*|AMITID*|ELAVIL*|ENDEP\",\"amox\":\"AMOXA*|ASENDIN*\",\n",
        "              \"bupr\":\"BUPROP*|APLENZIN*|FORFIVO*|WELLBUTRIN*|ZYBAN|BUPROBAN|BUDEPRON\",\n",
        "              \"cita\" : \"CITALO*|CELEXA*\", \"clom\" : \"CLOMIPRAM*|ANAFRANIL*\",\n",
        "\"desi\": \"DESIPRAM*|NORPRAMIN*|PERTOFRANE*\",\"desv\":\"DESVENLA*|KHEDEZLA|PRISTQ*\",\n",
        "\"doxe\": \"DOXEPIN*|SILENOR*|SINEQUAN*|ZONALON*\", \"dulo\": \"DULOXE*|CYMBALTA*\",\n",
        "\"esci\": \"ESCITALOP*|LEXAPRO*\", \"fluo\": \"FLUOXE*|FLUOEXT*|PROZAC*|PROSAC|SARAFEM*|SELFEMRA*\",\n",
        "\"imip\": \"IMIPRAM*|PRAMINE*|PRESAMINE*|TOFRANIL*\", \"levo\": \"LEVOMILNACIP*|FETZIMA*\",\n",
        "\"mirt\": \"MIRTAZ*|REMERON*\", \"nefa\": \"NEFAZO*|SERZONE*\", \"nort\": \"NORTRIP*|AVENTYL*|PAMELOR*\",\n",
        "\"paro\": \"PAROXE*|BRISDELLE*|PAXIL*|PEXEVA*\", \"prot\": \"PROTRIP*|VIVACTIL*\",\n",
        "\"sert\": \"SERTR*|ZOLOFT*\", \"traz\": \"TRAZO*|TRAZAD*|DESYREL*|TRIALODIN*\", \"trim\": \"TRIMIPRAM*|SURMONTIL*\",\n",
        "\"venl\": \"VENLAF*|EFFEXOR*\", \"vila\": \"VILAZOD*|VIIBRYD*\",\n",
        "\"vort\": \"VORTIOX*\", \n",
        "\"benzo\": \"BENZODIAZ*|ALPRAZ*|NIRAVAM*|XANAX*|CHLORDIA*|A-POXIDE*|LIBR*|LIMBI*|LYGEN|MENRIUM*|CLOBA*|ONFI|SIMPAZ*|CLONAZEPAM|KLONOPIN*|CLORAZEP*|GEN-XENE|TRANXENE|DIAZEPAM*|DIASTAT*|DIZAC|Q-PAM|VALIUM*|VALRELEASE*|ESTAZOLAM*|PROSOM|FLURAZEPAM*|DALMANE*|HALAZEPAM*|PAXIPAM*|LORAZ*|ATIVAN|MIDAZOLAM*|SEIZALAM*|VERSED|OXAZEPAM*|SERAX|ZAXOPAM*|QUAZEPAM*|DORAL*|TEMAZ*|RESTORIL*|TRIAZOLAM*|HALCION*|FLUMAZEN*|ROMAZI|ESZOPI*|LUNESTA*|ZALEPLON*|SONATA*|ZOLPI*|AMBIEN|EDLUAR*|INTERMEZ*|TOVALT*\", \n",
        "\"moodstabilizer\": \"CARBATROL*|CARNEXIV*|EPITOL*|EQUETRO*|TERIL|TEGRETOL*|VALPRO*|DEPACON*|DEPAK*|STAVZOR*|DIVALP*|LITHIU*|LITHANE*|LITHOB*|LITHON*|LITHOT*|ESKA*|LAMICT*|LAMOTR*|OXTELL*|TRILEPT*|ZONIDAM*|ZONEG*\", \n",
        "\"antipsychotic\":  \"ARIPIPRAZ*|ABILIFY*|ASENAP*|SAPHRIS*|BREXP*|REXULT*|CARIPRAZ*|CHLORPROM*|PROMAPAR*|SONAZ*|THORAZ*|CLOZA*|FAZACLO*|VERSACLOZ*|FLUPH*|PERMITIL*|PROLIXIN*|FANAPT*|ILOPERI*|ZIPRAS*|GEODON*|HALOP*|HALDO*|PALIP*|INVEGA*|LOXEP*|LOXETA*|ADASUV*|LURAS*|LATUDA*|MOLIND*|MOBAN|THIOTH*|NAVANE*|OLANZ*|SYMBYAX*|ZYPREXA*|PERPHEN*|ETRAFON*|TRIAVIL*|TRILAFON*|PIMAV*|NUPLAZ*|QUETIA*|SEROQUE*|RISPER*|THIORI*|MELLARIL*\" \n",
        "\n",
        "\n",
        "}"
      ],
      "metadata": {
        "id": "3J3DPE8dj_rk"
      },
      "execution_count": null,
      "outputs": []
    },
    {
      "cell_type": "code",
      "source": [
        "for key in conditions:\n",
        "  print(key)\n",
        "  presc_df.loc[presc_df[\"RXDRGNAM\"].str.contains(conditions[key]), 'Drug'] = key\n"
      ],
      "metadata": {
        "id": "2EryiJtBkjHA"
      },
      "execution_count": null,
      "outputs": []
    },
    {
      "cell_type": "code",
      "source": [
        "presc_df.head()"
      ],
      "metadata": {
        "id": "2s5Qu8wsmGrG"
      },
      "execution_count": null,
      "outputs": []
    },
    {
      "cell_type": "code",
      "source": [
        "presc_df = presc_df.drop_duplicates(subset='DUPERSID', keep='first')\n",
        "presc_df.head()"
      ],
      "metadata": {
        "id": "U1eJkDPoplAM"
      },
      "execution_count": null,
      "outputs": []
    },
    {
      "cell_type": "code",
      "source": [
        "presc_df[\"Drug\"].isna().sum()\n"
      ],
      "metadata": {
        "id": "u6vl24Rkpk9a"
      },
      "execution_count": null,
      "outputs": []
    },
    {
      "cell_type": "code",
      "source": [
        "presc_df.columns"
      ],
      "metadata": {
        "id": "i4Gm_pD6pk7l"
      },
      "execution_count": null,
      "outputs": []
    },
    {
      "cell_type": "code",
      "source": [
        "presc_df.to_csv(\"presc_df2018.csv\")"
      ],
      "metadata": {
        "id": "k5Qje6K6PMzR"
      },
      "execution_count": null,
      "outputs": []
    },
    {
      "cell_type": "markdown",
      "source": [
        "# MEDICAL CONDITION  FILE - DATA HANDLING"
      ],
      "metadata": {
        "id": "k6QXvcbopk5S"
      }
    },
    {
      "cell_type": "code",
      "source": [
        "from google.colab import drive\n",
        "drive.mount('/content/drive')"
      ],
      "metadata": {
        "id": "8F9bNirqPhe0"
      },
      "execution_count": null,
      "outputs": []
    },
    {
      "cell_type": "code",
      "source": [
        "medc_df = pd.read_excel(\"/content/drive/MyDrive/Amit-Project/medicalconditions2018.xlsx\")\n",
        "\n",
        "medc_df.head()"
      ],
      "metadata": {
        "id": "-7H6R_A-pk2A"
      },
      "execution_count": null,
      "outputs": []
    },
    {
      "cell_type": "code",
      "source": [
        "medc_df = medc_df.drop_duplicates(\"DUPERSID\", keep = \"first\")\n",
        "medc_df.head()"
      ],
      "metadata": {
        "id": "n2H_q6SbpkzJ"
      },
      "execution_count": null,
      "outputs": []
    },
    {
      "cell_type": "markdown",
      "source": [
        "# So we are selecting the required columns and saving it in another dataframe."
      ],
      "metadata": {
        "id": "ytw1DLbQcM1m"
      }
    },
    {
      "cell_type": "code",
      "source": [
        "sub_medc_df = medc_df[[\"DUPERSID\",\"ICD10CDX\"]]"
      ],
      "metadata": {
        "id": "oTKN5CYzK1MR"
      },
      "execution_count": null,
      "outputs": []
    },
    {
      "cell_type": "code",
      "source": [
        "sub_medc_df.to_csv(\"sub_medc_df2018.csv\")"
      ],
      "metadata": {
        "id": "12LyFZ9DPA1a"
      },
      "execution_count": null,
      "outputs": []
    },
    {
      "cell_type": "markdown",
      "source": [
        "# POPULATION CHARACTERISTICS  FILE - DATA HANDLING"
      ],
      "metadata": {
        "id": "peBHKUaBpkw9"
      }
    },
    {
      "cell_type": "code",
      "source": [
        "pop_df = pd.read_csv(\"/content/drive/MyDrive/Amit-Project/popcharac2018.csv\")\n",
        "pop_df.head()"
      ],
      "metadata": {
        "id": "oX8sbrTcUv3Q"
      },
      "execution_count": null,
      "outputs": []
    },
    {
      "cell_type": "code",
      "source": [
        "pop_df.columns"
      ],
      "metadata": {
        "id": "veVAcE40VZWd"
      },
      "execution_count": null,
      "outputs": []
    },
    {
      "cell_type": "code",
      "source": [
        "pop_df = pop_df[[\"DUPERSID\",\"AGE18X\",\"SEX\",\"RACETHX\",\"MARRY18X\",\"FAMINC18\",\"POVCAT18\",\"INSCOV18\",\"PHQ242\",\"ADPAIN42\",\"REGION18\",\"HIBPDX\",\"CHDDX\",\"STRKDX\",\"CANCERDX\",\"DIABDX_M18\",\"ARTHDX\",\"ADBMI42\",\"VPCS42\",\"VMCS42\",\"K6SUM42\",\"PERWT18F\",\"VARSTR\",\"VARPSU\"]]"
      ],
      "metadata": {
        "id": "LvfElKeDWYfE"
      },
      "execution_count": null,
      "outputs": []
    },
    {
      "cell_type": "code",
      "source": [
        "pop_df = pop_df.drop_duplicates(\"DUPERSID\", keep = \"first\")\n",
        "pop_df.head()"
      ],
      "metadata": {
        "id": "lozYtnaoXBio"
      },
      "execution_count": null,
      "outputs": []
    },
    {
      "cell_type": "code",
      "source": [
        "pop_df[\"ADBMI19\"] = np.nan"
      ],
      "metadata": {
        "id": "zKxirYMsXug2"
      },
      "execution_count": null,
      "outputs": []
    },
    {
      "cell_type": "code",
      "source": [
        "pop_df.to_csv(\"pop_df2018.csv\")"
      ],
      "metadata": {
        "id": "JvLuRxBymhKD"
      },
      "execution_count": null,
      "outputs": []
    },
    {
      "cell_type": "markdown",
      "source": [
        "# Merging the population characteristics with medical conditions file"
      ],
      "metadata": {
        "id": "J2_q-WUTmuF3"
      }
    },
    {
      "cell_type": "code",
      "source": [
        "sub_medc_df = pd.read_csv(\"/content/drive/MyDrive/Amit-Project/sub_medc_df2019.csv\")"
      ],
      "metadata": {
        "id": "8a6QgclNWd7y"
      },
      "execution_count": null,
      "outputs": []
    },
    {
      "cell_type": "code",
      "source": [
        "presc_df = pd.read_csv(\"/content/drive/MyDrive/Amit-Project/presc_df2019.csv\")"
      ],
      "metadata": {
        "id": "l5dJggjYXUs_"
      },
      "execution_count": null,
      "outputs": []
    },
    {
      "cell_type": "code",
      "source": [
        "pop_med_df = pd.merge(pop_df, sub_medc_df, on = \"DUPERSID\", validate =\"one_to_many\")"
      ],
      "metadata": {
        "id": "d_Lmlx31o6T5"
      },
      "execution_count": null,
      "outputs": []
    },
    {
      "cell_type": "code",
      "source": [
        "pop_med_df.head()"
      ],
      "metadata": {
        "id": "dG4u-rvlo6Qu"
      },
      "execution_count": null,
      "outputs": []
    },
    {
      "cell_type": "code",
      "source": [
        "presc_popmed_df = pd.merge(pop_med_df, presc_df, on = \"DUPERSID\", validate =\"one_to_many\")"
      ],
      "metadata": {
        "id": "d_7Bdq5lo6M_"
      },
      "execution_count": null,
      "outputs": []
    },
    {
      "cell_type": "code",
      "source": [],
      "metadata": {
        "id": "kQXNpkSWXeFI"
      },
      "execution_count": null,
      "outputs": []
    },
    {
      "cell_type": "code",
      "source": [
        "pop_med_df.to_csv('population_medical_merged2018.csv')\n",
        "presc_popmed_df.to_csv(\"prescribemed_population_medical_merged2018.csv\")\n"
      ],
      "metadata": {
        "id": "_NMdCOuXo6Dw"
      },
      "execution_count": null,
      "outputs": []
    },
    {
      "cell_type": "code",
      "source": [
        "presc_popmed_df.info()"
      ],
      "metadata": {
        "id": "w9hi0VcQh5ho"
      },
      "execution_count": null,
      "outputs": []
    },
    {
      "cell_type": "markdown",
      "source": [
        "# Loading the merged file"
      ],
      "metadata": {
        "id": "Gce4K-ZjIgId"
      }
    },
    {
      "cell_type": "code",
      "source": [
        "merged_df = presc_popmed_df"
      ],
      "metadata": {
        "id": "ptnlq3Ghi8TX"
      },
      "execution_count": null,
      "outputs": []
    },
    {
      "cell_type": "code",
      "source": [
        "merged_df = pd.read_csv(\"/content/drive/MyDrive/Amit-Project/prescribemed_population_medical_merged2018.csv\")\n",
        "merged_df.head()"
      ],
      "metadata": {
        "id": "js84uQWHuogX"
      },
      "execution_count": null,
      "outputs": []
    },
    {
      "cell_type": "code",
      "source": [
        "merged_df[\"RXSTRENG\"].replace(-15, np.nan, inplace = True)\n"
      ],
      "metadata": {
        "id": "haD0Ow-ZI6bY"
      },
      "execution_count": null,
      "outputs": []
    },
    {
      "cell_type": "code",
      "source": [
        "merged_df[\"RXSTRENG\"].isna().sum()"
      ],
      "metadata": {
        "id": "8rLGYzEFKBAc"
      },
      "execution_count": null,
      "outputs": []
    },
    {
      "cell_type": "code",
      "source": [
        "merged_df[\"RXDAYSUP\"].replace(-8, np.nan, inplace = True)\n",
        "merged_df[\"RXDAYSUP\"].isna().sum()\n"
      ],
      "metadata": {
        "id": "ck6eacZ9KMFR"
      },
      "execution_count": null,
      "outputs": []
    },
    {
      "cell_type": "code",
      "source": [
        "merged_df.info()"
      ],
      "metadata": {
        "id": "L7vfLqlYYuMR"
      },
      "execution_count": null,
      "outputs": []
    },
    {
      "cell_type": "code",
      "source": [
        "merged_df[\"RXSTRENG\"] = pd.to_numeric(merged_df[\"RXSTRENG\"], errors = 'coerce')"
      ],
      "metadata": {
        "id": "5_kc5QmgY3qI"
      },
      "execution_count": null,
      "outputs": []
    },
    {
      "cell_type": "code",
      "source": [
        "merged_df[\"dosage\"] = 0\n",
        "\n",
        "merged_df[\"dosage\"] = merged_df[\"RXQUANTY\"]*(merged_df[\"RXSTRENG\"]/merged_df[\"RXDAYSUP\"])\n",
        "\n",
        "merged_df[\"dosage\"].head()"
      ],
      "metadata": {
        "id": "Gjii5Jwx18pl"
      },
      "execution_count": null,
      "outputs": []
    },
    {
      "cell_type": "code",
      "source": [
        "merged_df[\"RXBEGYRX\"].replace([-15,-14,-8], np.nan, inplace = True)\n",
        "merged_df[\"RXBEGYRX\"].isna().sum()"
      ],
      "metadata": {
        "id": "S3FEAM5D2oyN"
      },
      "execution_count": null,
      "outputs": []
    },
    {
      "cell_type": "code",
      "source": [
        "merged_df[\"duration\"] = 2018 - merged_df[\"RXBEGYRX\"]"
      ],
      "metadata": {
        "id": "2A9n_I9h5x-z"
      },
      "execution_count": null,
      "outputs": []
    },
    {
      "cell_type": "code",
      "source": [
        "merged_df[\"duration\"].isna().head()"
      ],
      "metadata": {
        "id": "Bxv9mRru54U1"
      },
      "execution_count": null,
      "outputs": []
    },
    {
      "cell_type": "code",
      "source": [
        "merged_df[\"duration\"].head()"
      ],
      "metadata": {
        "id": "uDf_Edz_7EQg"
      },
      "execution_count": null,
      "outputs": []
    },
    {
      "cell_type": "code",
      "source": [
        "merged_df.loc[merged_df[\"duration\"] <=1, 'durationcat'] = 1\n",
        "merged_df.loc[merged_df[\"duration\"].between(2,4, inclusive = \"both\"), 'durationcat'] = 2\n",
        "merged_df.loc[merged_df[\"duration\"] >=5, 'durationcat'] = 3\n",
        "merged_df[\"durationcat\"].head()"
      ],
      "metadata": {
        "id": "JMilEiSS6GlJ"
      },
      "execution_count": null,
      "outputs": []
    },
    {
      "cell_type": "code",
      "source": [
        "merged_df[merged_df[\"durationcat\"]==3].head()"
      ],
      "metadata": {
        "id": "TZZWHugb7Ozs"
      },
      "execution_count": null,
      "outputs": []
    },
    {
      "cell_type": "code",
      "source": [
        "merged_df.loc[(merged_df[\"dosage\"].between(0,75, inclusive=\"neither\")) & (merged_df[\"Drug\"] == \"amit\"), 'lowdosage'] = 1\n",
        "merged_df.loc[(merged_df[\"dosage\"]  >= 75) & (merged_df[\"Drug\"] == \"amit\"), 'lowdosage'] = 0\n",
        "\n",
        "merged_df.loc[(merged_df[\"dosage\"].between(0,300, inclusive=\"neither\")) & (merged_df[\"Drug\"] == \"bupr\"), 'lowdosage'] = 1\n",
        "merged_df.loc[(merged_df[\"dosage\"]  >= 300) & (merged_df[\"Drug\"] == \"bupr\"), 'lowdosage'] = 0\n",
        "\n",
        "merged_df.loc[(merged_df[\"dosage\"].between(0,20, inclusive=\"neither\")) & (merged_df[\"Drug\"] == \"cita\"), 'lowdosage'] = 1\n",
        "merged_df.loc[(merged_df[\"dosage\"]  >= 20) & (merged_df[\"Drug\"] == \"cita\"), 'lowdosage'] = 0\n",
        "\n",
        "merged_df.loc[(merged_df[\"dosage\"].between(0,50, inclusive=\"neither\")) & (merged_df[\"Drug\"] == \"desv\"), 'lowdosage'] = 1\n",
        "merged_df.loc[(merged_df[\"dosage\"]  >= 50) & (merged_df[\"Drug\"] == \"desv\"), 'lowdosage'] = 0\n",
        "\n",
        "merged_df.loc[(merged_df[\"dosage\"].between(0,75, inclusive=\"neither\")) & (merged_df[\"Drug\"] == \"doxe\"), 'lowdosage'] = 1\n",
        "merged_df.loc[(merged_df[\"dosage\"]  >= 75) & (merged_df[\"Drug\"] == \"doxe\"), 'lowdosage'] = 0\n",
        "\n",
        "merged_df.loc[(merged_df[\"dosage\"].between(0,10, inclusive=\"neither\")) & (merged_df[\"Drug\"] == \"esci\"), 'lowdosage'] = 1\n",
        "merged_df.loc[(merged_df[\"dosage\"]  >= 10) & (merged_df[\"Drug\"] == \"esci\"), 'lowdosage'] = 0\n",
        "\n",
        "merged_df.loc[(merged_df[\"dosage\"].between(0,20, inclusive=\"neither\")) & (merged_df[\"Drug\"] == \"fluo\"), 'lowdosage'] = 1\n",
        "merged_df.loc[(merged_df[\"dosage\"]  >= 20) & (merged_df[\"Drug\"] == \"fluo\"), 'lowdosage'] = 0\n",
        "\n",
        "merged_df.loc[(merged_df[\"dosage\"].between(0,15, inclusive=\"neither\")) & (merged_df[\"Drug\"] == \"mirt\"), 'lowdosage'] = 1\n",
        "merged_df.loc[(merged_df[\"dosage\"]  >= 15) & (merged_df[\"Drug\"] == \"mirt\"), 'lowdosage'] = 0\n",
        "\n",
        "merged_df.loc[(merged_df[\"dosage\"].between(0,75, inclusive=\"neither\")) & (merged_df[\"Drug\"] == \"nort\"), 'lowdosage'] = 1\n",
        "merged_df.loc[(merged_df[\"dosage\"]  >= 75) & (merged_df[\"Drug\"] == \"nort\"), 'lowdosage'] = 0\n",
        "\n",
        "merged_df.loc[(merged_df[\"dosage\"].between(0,20, inclusive=\"neither\")) & (merged_df[\"Drug\"] == \"paro\"), 'lowdosage'] = 1\n",
        "merged_df.loc[(merged_df[\"dosage\"]  >= 20) & (merged_df[\"Drug\"] == \"paro\"), 'lowdosage'] = 0\n",
        "\n",
        "merged_df.loc[(merged_df[\"dosage\"].between(0,50, inclusive=\"neither\")) & (merged_df[\"Drug\"] == \"sert\"), 'lowdosage'] = 1\n",
        "merged_df.loc[(merged_df[\"dosage\"]  >= 50) & (merged_df[\"Drug\"] == \"sert\"), 'lowdosage'] = 0\n",
        "\n",
        "merged_df.loc[(merged_df[\"dosage\"].between(0,150, inclusive=\"neither\")) & (merged_df[\"Drug\"] == \"traz\"), 'lowdosage'] = 1\n",
        "merged_df.loc[(merged_df[\"dosage\"]  >= 150) & (merged_df[\"Drug\"] == \"traz\"), 'lowdosage'] = 0\n",
        "\n",
        "\n",
        "merged_df.loc[(merged_df[\"dosage\"].between(0,75, inclusive=\"neither\")) & (merged_df[\"Drug\"] == \"venl\"), 'lowdosage'] = 1\n",
        "merged_df.loc[(merged_df[\"dosage\"]  >= 75) & (merged_df[\"Drug\"] == \"venl\"), 'lowdosage'] = 0\n",
        "\n",
        "\n",
        "merged_df.loc[(merged_df[\"dosage\"].between(0,20, inclusive=\"neither\")) & (merged_df[\"Drug\"] == \"vila\"), 'lowdosage'] = 1\n",
        "merged_df.loc[(merged_df[\"dosage\"]  >= 20) & (merged_df[\"Drug\"] == \"vila\"), 'lowdosage'] = 0\n",
        "\n",
        "merged_df.loc[(merged_df[\"dosage\"].between(0,5, inclusive=\"neither\")) & (merged_df[\"Drug\"] == \"vort\"), 'lowdosage'] = 1\n",
        "merged_df.loc[(merged_df[\"dosage\"]  >= 5) & (merged_df[\"Drug\"] == \"vort\"), 'lowdosage'] = 0\n",
        "\n",
        "merged_df.loc[(merged_df[\"dosage\"].between(0,30, inclusive=\"neither\")) & (merged_df[\"Drug\"] == \"antipsychotic\"), 'lowdosage'] = 1\n",
        "merged_df.loc[(merged_df[\"dosage\"]  >= 30) & (merged_df[\"Drug\"] == \"antipsychotic\"), 'lowdosage'] = 0\n",
        "\n"
      ],
      "metadata": {
        "id": "_84Uxxpq7U5q"
      },
      "execution_count": null,
      "outputs": []
    },
    {
      "cell_type": "code",
      "source": [
        "merged_df.loc[(merged_df[\"dosage\"].between(75,200, inclusive=\"both\")) & (merged_df[\"Drug\"] == \"amit\"), 'optimaldosage'] = 1\n",
        "merged_df.loc[((merged_df[\"dosage\"]  < 75) | (merged_df[\"dosage\"]  > 200)) & (merged_df[\"Drug\"] == \"amit\") , 'optimaldosage'] = 0\n",
        "\n",
        "merged_df.loc[(merged_df[\"dosage\"].between(300,450, inclusive=\"both\")) & (merged_df[\"Drug\"] == \"bupr\"), 'optimaldosage'] = 1\n",
        "merged_df.loc[((merged_df[\"dosage\"]  < 300) | (merged_df[\"dosage\"] > 450)) & (merged_df[\"Drug\"] == \"bupr\"), 'optimaldosage'] = 0\n",
        "\n",
        "merged_df.loc[(merged_df[\"dosage\"].between(20,40, inclusive=\"both\")) & (merged_df[\"Drug\"] == \"cita\"), 'optimaldosage'] = 1\n",
        "merged_df.loc[((merged_df[\"dosage\"]  < 20) | (merged_df[\"dosage\"] > 40)) & (merged_df[\"Drug\"] == \"cita\"), 'optimaldosage'] = 0\n",
        "\n",
        "merged_df.loc[(merged_df[\"dosage\"].between(50,100, inclusive=\"both\")) & (merged_df[\"Drug\"] == \"desv\"), 'optimaldosage'] = 1\n",
        "merged_df.loc[((merged_df[\"dosage\"]  < 20) | (merged_df[\"dosage\"] > 40)) & (merged_df[\"Drug\"] == \"desv\"), 'optimaldosage'] = 0\n",
        "\n",
        "merged_df.loc[(merged_df[\"dosage\"].between(75,300, inclusive=\"both\")) & (merged_df[\"Drug\"] == \"doxe\"), 'optimaldosage'] = 1\n",
        "merged_df.loc[((merged_df[\"dosage\"]  < 75) | (merged_df[\"dosage\"] > 300)) & (merged_df[\"Drug\"] == \"doxe\"), 'optimaldosage'] = 0\n",
        "\n",
        "merged_df.loc[(merged_df[\"dosage\"].between(10,20, inclusive=\"both\")) & (merged_df[\"Drug\"] == \"esci\"), 'optimaldosage'] = 1\n",
        "merged_df.loc[((merged_df[\"dosage\"]  < 10) | (merged_df[\"dosage\"] > 20)) & (merged_df[\"Drug\"] == \"esci\"), 'optimaldosage'] = 0\n",
        "\n",
        "merged_df.loc[(merged_df[\"dosage\"].between(20,80, inclusive=\"both\")) & (merged_df[\"Drug\"] == \"fluo\"), 'optimaldosage'] = 1\n",
        "merged_df.loc[((merged_df[\"dosage\"]  < 20) | (merged_df[\"dosage\"] > 80)) & (merged_df[\"Drug\"] == \"fluo\"), 'optimaldosage'] = 0\n",
        "\n",
        "merged_df.loc[(merged_df[\"dosage\"].between(15,45, inclusive=\"both\")) & (merged_df[\"Drug\"] == \"mirt\"), 'optimaldosage'] = 1\n",
        "merged_df.loc[((merged_df[\"dosage\"]  < 15) | (merged_df[\"dosage\"] > 45)) & (merged_df[\"Drug\"] == \"mirt\"), 'optimaldosage'] = 0\n",
        "\n",
        "merged_df.loc[(merged_df[\"dosage\"].between(75,150, inclusive=\"both\")) & (merged_df[\"Drug\"] == \"nort\"), 'optimaldosage'] = 1\n",
        "merged_df.loc[((merged_df[\"dosage\"]  < 75) | (merged_df[\"dosage\"] > 150)) & (merged_df[\"Drug\"] == \"nort\"), 'optimaldosage'] = 0\n",
        "\n",
        "merged_df.loc[(merged_df[\"dosage\"].between(20,50, inclusive=\"both\")) & (merged_df[\"Drug\"] == \"paro\"), 'optimaldosage'] = 1\n",
        "merged_df.loc[((merged_df[\"dosage\"]  < 20) | (merged_df[\"dosage\"] > 50)) & (merged_df[\"Drug\"] == \"paro\"), 'optimaldosage'] = 0\n",
        "\n",
        "merged_df.loc[(merged_df[\"dosage\"].between(50,200, inclusive=\"both\")) & (merged_df[\"Drug\"] == \"sert\"), 'optimaldosage'] = 1\n",
        "merged_df.loc[((merged_df[\"dosage\"]  < 50) | (merged_df[\"dosage\"] > 200)) & (merged_df[\"Drug\"] == \"sert\"), 'optimaldosage'] = 0\n",
        "\n",
        "merged_df.loc[(merged_df[\"dosage\"].between(150,400, inclusive=\"both\")) & (merged_df[\"Drug\"] == \"traz\"), 'optimaldosage'] = 1\n",
        "merged_df.loc[((merged_df[\"dosage\"]  < 150) | (merged_df[\"dosage\"] > 400)) & (merged_df[\"Drug\"] == \"traz\"), 'optimaldosage'] = 0\n",
        "\n",
        "\n",
        "merged_df.loc[(merged_df[\"dosage\"].between(75,375, inclusive=\"both\")) & (merged_df[\"Drug\"] == \"venl\"), 'optimaldosage'] = 1\n",
        "merged_df.loc[((merged_df[\"dosage\"]  < 75) | (merged_df[\"dosage\"] > 375)) & (merged_df[\"Drug\"] == \"venl\"), 'optimaldosage'] = 0\n",
        "\n",
        "\n",
        "merged_df.loc[(merged_df[\"dosage\"].between(20,40, inclusive=\"both\")) & (merged_df[\"Drug\"] == \"vila\"), 'optimaldosage'] = 1\n",
        "merged_df.loc[((merged_df[\"dosage\"]  < 20) | (merged_df[\"dosage\"] > 40)) & (merged_df[\"Drug\"] == \"vila\"), 'optimaldosage'] = 0\n",
        "\n",
        "merged_df.loc[(merged_df[\"dosage\"].between(5,20, inclusive=\"both\")) & (merged_df[\"Drug\"] == \"vort\"), 'optimaldosage'] = 1\n",
        "merged_df.loc[((merged_df[\"dosage\"]  < 5) | (merged_df[\"dosage\"] > 20)) & (merged_df[\"Drug\"] == \"vort\"), 'optimaldosage'] = 0\n",
        "\n",
        "merged_df.loc[(merged_df[\"dosage\"].between(30,60, inclusive=\"both\")) & (merged_df[\"Drug\"] == \"antipsychotic\"), 'optimaldosage'] = 1\n",
        "merged_df.loc[((merged_df[\"dosage\"]  < 30) | (merged_df[\"dosage\"] > 40)) & (merged_df[\"Drug\"] == \"antipsychotic\"), 'optimaldosage'] = 0"
      ],
      "metadata": {
        "id": "H95LcTZzCikS"
      },
      "execution_count": null,
      "outputs": []
    },
    {
      "cell_type": "code",
      "source": [
        "merged_df[merged_df[\"Drug\"]==\"amit\"].head(20)"
      ],
      "metadata": {
        "id": "2EjTiKXTVFT2"
      },
      "execution_count": null,
      "outputs": []
    },
    {
      "cell_type": "code",
      "source": [
        "merged_df.loc[merged_df[\"AGE18X\"]  >= 18, 'adult'] = 1\n",
        "merged_df.loc[merged_df[\"AGE18X\"]  < 18, 'adult'] = 0\n",
        "\n",
        "\n"
      ],
      "metadata": {
        "id": "S057pRCeVPmm"
      },
      "execution_count": null,
      "outputs": []
    },
    {
      "cell_type": "code",
      "source": [
        "merged_df.loc[merged_df[\"AGE18X\"].between(18,30,inclusive=\"left\"), 'agecat'] = 1\n",
        "merged_df.loc[merged_df[\"AGE18X\"].between(30,45,inclusive=\"left\"), 'agecat'] = 2\n",
        "merged_df.loc[merged_df[\"AGE18X\"].between(40,50,inclusive=\"left\"), 'agecat'] = 3\n",
        "merged_df.loc[merged_df[\"AGE18X\"].between(50,60,inclusive=\"left\"), 'agecat'] = 4\n",
        "merged_df.loc[merged_df[\"AGE18X\"] >=60, 'agecat'] = 5"
      ],
      "metadata": {
        "id": "cDvaNl1CaanO"
      },
      "execution_count": null,
      "outputs": []
    },
    {
      "cell_type": "code",
      "source": [
        "merged_df.loc[merged_df[\"ADBMI42\"] <=18.5, 'adbmicat'] = 1\n",
        "merged_df.loc[merged_df[\"ADBMI42\"].between(18.5,25, inclusive=\"left\"), 'adbmicat'] = 2\n",
        "merged_df.loc[merged_df[\"ADBMI42\"].between(25,30, inclusive=\"left\"), 'adbmicat'] = 3\n",
        "merged_df.loc[merged_df[\"ADBMI42\"] >=30, 'adbmicat'] = 4"
      ],
      "metadata": {
        "id": "Cc027d8WCJE0"
      },
      "execution_count": null,
      "outputs": []
    },
    {
      "cell_type": "code",
      "source": [
        "merged_df = merged_df.loc[merged_df['Drug'] != 'others']"
      ],
      "metadata": {
        "id": "Ml6i2h-6CI4B"
      },
      "execution_count": null,
      "outputs": []
    },
    {
      "cell_type": "code",
      "source": [
        "merged_df.to_csv(\"finaldata18.csv\", index = False)"
      ],
      "metadata": {
        "id": "7V3S56Upb1VN"
      },
      "execution_count": null,
      "outputs": []
    },
    {
      "cell_type": "code",
      "source": [],
      "metadata": {
        "id": "oXBaD64NGCWa"
      },
      "execution_count": null,
      "outputs": []
    }
  ]
}